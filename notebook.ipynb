{
  "nbformat": 4,
  "nbformat_minor": 0,
  "metadata": {
    "colab": {
      "name": "Untitled2.ipynb",
      "provenance": []
    },
    "kernelspec": {
      "name": "python3",
      "display_name": "Python 3"
    },
    "language_info": {
      "name": "python"
    }
  },
  "cells": [
    {
      "cell_type": "markdown",
      "metadata": {
        "id": "VXdYMNgnN5hy"
      },
      "source": [
        "# Import neccessary libraries"
      ]
    },
    {
      "cell_type": "code",
      "metadata": {
        "id": "FFeT5Y8vN-6z"
      },
      "source": [
        "import csv\n",
        "import numpy as np\n",
        "import matplotlib.pyplot as plt\n",
        "from matplotlib.offsetbox import OffsetImage, AnnotationBbox"
      ],
      "execution_count": null,
      "outputs": []
    },
    {
      "cell_type": "markdown",
      "metadata": {
        "id": "u1UDQv-dOCdX"
      },
      "source": [
        "# Define utility function(s)"
      ]
    },
    {
      "cell_type": "code",
      "metadata": {
        "id": "H3orGllPOGlD"
      },
      "source": [
        "IMAGE_FOLDER = \"images/\"\n",
        "\n",
        "def getImage(path):\n",
        "    return OffsetImage(plt.imread(IMAGE_FOLDER + path), zoom=0.15)"
      ],
      "execution_count": null,
      "outputs": []
    },
    {
      "cell_type": "markdown",
      "metadata": {
        "id": "54GygRdUOIh4"
      },
      "source": [
        "# Extract breast and hip info"
      ]
    },
    {
      "cell_type": "code",
      "metadata": {
        "id": "QNkpTId0OMEQ"
      },
      "source": [
        "breast = []\n",
        "hip = []\n",
        "image = []\n",
        "with open(\"data.csv\", mode=\"rt\") as f:\n",
        "    df = csv.DictReader(f)\n",
        "    \n",
        "    for row in df:\n",
        "        breast.append(int(row[\"BREAST\"]))\n",
        "        hip.append(int(row[\"HIP\"]))\n",
        "        image.append(row[\"NAME\"] + \".jpg\")"
      ],
      "execution_count": null,
      "outputs": []
    },
    {
      "cell_type": "markdown",
      "metadata": {
        "id": "0u1XQf5dOQm8"
      },
      "source": [
        "# Plot hip and breast info"
      ]
    },
    {
      "cell_type": "code",
      "metadata": {
        "id": "O5NlTEw-OUTW"
      },
      "source": [
        "fig, ax = plt.subplots()\n",
        "ax.scatter(hip, breast)\n",
        "\n",
        "for x0, y0, path in zip(hip, breast, image):\n",
        "    ab = AnnotationBbox(getImage(path), (x0, y0), frameon=False)\n",
        "    ax.add_artist(ab)"
      ],
      "execution_count": null,
      "outputs": []
    },
    {
      "cell_type": "markdown",
      "metadata": {
        "id": "tibwdSR-OVk_"
      },
      "source": [
        "# Draw linear regression line: $y=ax+b$\n",
        "Where $x := \\text{hip size}$, $y := \\text{breast size}$"
      ]
    },
    {
      "cell_type": "code",
      "metadata": {
        "id": "UMspfKReOfPJ"
      },
      "source": [
        "lin = np.polyfit(hip, breast, 1)\n",
        "X = np.linspace(min(hip), max(hip), 10)\n",
        "a, b = lin[0], lin[1]\n",
        "Y = a*X + b\n",
        "equation = \"y={0}x + {1}\".format(str(a), str(b))\n",
        "plt.plot(X, Y, \"-r\", label=)\n",
        "print(\"Linear regression equation: {0}\".format(equation))"
      ],
      "execution_count": null,
      "outputs": []
    },
    {
      "cell_type": "markdown",
      "metadata": {
        "id": "O6pLj7bIPFlm"
      },
      "source": [
        "# Change plot appearance"
      ]
    },
    {
      "cell_type": "code",
      "metadata": {
        "id": "FpvXXli0PJ-8"
      },
      "source": [
        "plt.title(\"Relationship between H and B size in Love Live!\", fontdict={\"size\": 20})\n",
        "plt.xlabel(\"Hip\", fontdict={\"size\": 14})\n",
        "plt.ylabel(\"Breast\", fontdict={\"size\": 14})\n",
        "plt.grid()\n",
        "plt.legend(loc=\"upper left\")\n",
        "plt.xticks(np.arange(min(hip), max(hip)+1, 1.0))\n",
        "plt.yticks(np.arange(min(breast), max(breast)+1, 1.0))"
      ],
      "execution_count": null,
      "outputs": []
    },
    {
      "cell_type": "markdown",
      "metadata": {
        "id": "1bDlBf8JPNIO"
      },
      "source": [
        "# Show plot"
      ]
    },
    {
      "cell_type": "code",
      "metadata": {
        "id": "ME941wA8PL06"
      },
      "source": [
        "plt.plot()"
      ],
      "execution_count": null,
      "outputs": []
    }
  ]
}